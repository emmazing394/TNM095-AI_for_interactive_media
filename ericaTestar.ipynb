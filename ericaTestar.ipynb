{
  "nbformat": 4,
  "nbformat_minor": 0,
  "metadata": {
    "colab": {
      "name": "ericaTestar.ipynb",
      "provenance": [],
      "collapsed_sections": [],
      "include_colab_link": true
    },
    "kernelspec": {
      "name": "python3",
      "display_name": "Python 3"
    }
  },
  "cells": [
    {
      "cell_type": "markdown",
      "metadata": {
        "id": "view-in-github",
        "colab_type": "text"
      },
      "source": [
        "<a href=\"https://colab.research.google.com/github/emmazing394/TNM095-AI_for_interactive_media/blob/master/ericaTestar.ipynb\" target=\"_parent\"><img src=\"https://colab.research.google.com/assets/colab-badge.svg\" alt=\"Open In Colab\"/></a>"
      ]
    },
    {
      "cell_type": "code",
      "metadata": {
        "id": "izLTaCXilHN6",
        "colab_type": "code",
        "colab": {}
      },
      "source": [
        "hej här skriver man kod :)\n"
      ],
      "execution_count": null,
      "outputs": []
    },
    {
      "cell_type": "markdown",
      "metadata": {
        "id": "-b7Tn-_tlSeS",
        "colab_type": "text"
      },
      "source": [
        "Här kan man skriva kommentarer"
      ]
    },
    {
      "cell_type": "code",
      "metadata": {
        "id": "5TJjzkG5lYtk",
        "colab_type": "code",
        "colab": {}
      },
      "source": [
        "mer kod :)"
      ],
      "execution_count": null,
      "outputs": []
    }
  ]
}