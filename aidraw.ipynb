{
  "nbformat": 4,
  "nbformat_minor": 0,
  "metadata": {
    "colab": {
      "name": "aidraw.ipynb",
      "provenance": [],
      "collapsed_sections": [],
      "include_colab_link": true
    },
    "kernelspec": {
      "name": "python3",
      "display_name": "Python 3"
    }
  },
  "cells": [
    {
      "cell_type": "markdown",
      "metadata": {
        "id": "view-in-github",
        "colab_type": "text"
      },
      "source": [
        "<a href=\"https://colab.research.google.com/github/emmazing394/TNM095-AI_for_interactive_media/blob/master/aidraw.ipynb\" target=\"_parent\"><img src=\"https://colab.research.google.com/assets/colab-badge.svg\" alt=\"Open In Colab\"/></a>"
      ]
    },
    {
      "cell_type": "code",
      "metadata": {
        "id": "izLTaCXilHN6"
      },
      "source": [
        "import numpy as np\n",
        "import tensorflow as tf\n",
        "from tensorflow import keras\n",
        "from keras.models import Sequential\n",
        "import os\n",
        "from tensorflow.keras import layers\n",
        "import urllib.request\n",
        "import pandas as pd\n"
      ],
      "execution_count": 1,
      "outputs": []
    },
    {
      "cell_type": "markdown",
      "metadata": {
        "id": "cAMdBTU76IYn"
      },
      "source": [
        "Get classes from quick draw dataset. We choose 12 animals from the 345 categories to train our model on."
      ]
    },
    {
      "cell_type": "code",
      "metadata": {
        "id": "KW-F6oS1U4au"
      },
      "source": [
        "base = 'https://storage.googleapis.com/quickdraw_dataset/full/numpy_bitmap/'\n",
        "\n",
        "#classes = [\"ant\", \"bat\", \"bear\", \"bee\", \"bird\", \"butterfly\", \"camel\", \"cat\", \"cow\", \"crab\",\n",
        "#          \"crocodile\", \"dog\", \"dolphin\", \"dragon\", \"duck\", \"elephant\", \"fish\", \"flamingo\", \"frog\",\n",
        "#          \"giraffe\", \"hedgehog\", \"horse\", \"kangaroo\", \"lion\", \"lobster\", \"mermaid\", \"monkey\",\n",
        "#          \"mouse\", \"octopus\", \"owl\", \"parrot\", \"penguin\", \"pig\", \"rabbit\", \"raccoon\", \"rhinoceros\", \"scorpion\", \n",
        "#          \"shark\", \"sheep\", \"snail\", \"snake\", \"snowman\", \"spider\", \"squirrel\", \"swan\", \"teddy-bear\", \n",
        "#           \"tiger\", \"whale\", \"zebra\"]\n",
        "\n",
        "classes = [\"ant\", \"bat\", \"bee\", \"bird\", \"cat\", \"dog\", \"dolphin\", \"fish\", \n",
        "           \"horse\", \"pig\", \"rabbit\", \"swan\"]"
      ],
      "execution_count": 2,
      "outputs": []
    },
    {
      "cell_type": "markdown",
      "metadata": {
        "id": "nzvE5z3f6VGf"
      },
      "source": [
        "Create direction objects "
      ]
    },
    {
      "cell_type": "code",
      "metadata": {
        "id": "9ByBWy5KVtRA"
      },
      "source": [
        "!mkdir -p objects"
      ],
      "execution_count": 3,
      "outputs": []
    },
    {
      "cell_type": "markdown",
      "metadata": {
        "id": "-b7Tn-_tlSeS"
      },
      "source": [
        "Download classes to folder objects"
      ]
    },
    {
      "cell_type": "code",
      "metadata": {
        "id": "5TJjzkG5lYtk"
      },
      "source": [
        "def download():\n",
        "\n",
        "  for c in classes:\n",
        "    path = base+c+'.npy'\n",
        "    print(path)\n",
        "    urllib.request.urlretrieve(path, 'objects/'+ c +'.npy')\n"
      ],
      "execution_count": 4,
      "outputs": []
    },
    {
      "cell_type": "code",
      "metadata": {
        "id": "VfLZ-vnDV9T8",
        "outputId": "437ecb5a-bfcd-4858-8eb1-cd69257f6b8a",
        "colab": {
          "base_uri": "https://localhost:8080/"
        }
      },
      "source": [
        "download()"
      ],
      "execution_count": 5,
      "outputs": [
        {
          "output_type": "stream",
          "text": [
            "https://storage.googleapis.com/quickdraw_dataset/full/numpy_bitmap/ant.npy\n",
            "https://storage.googleapis.com/quickdraw_dataset/full/numpy_bitmap/bat.npy\n",
            "https://storage.googleapis.com/quickdraw_dataset/full/numpy_bitmap/bee.npy\n",
            "https://storage.googleapis.com/quickdraw_dataset/full/numpy_bitmap/bird.npy\n",
            "https://storage.googleapis.com/quickdraw_dataset/full/numpy_bitmap/cat.npy\n",
            "https://storage.googleapis.com/quickdraw_dataset/full/numpy_bitmap/dog.npy\n",
            "https://storage.googleapis.com/quickdraw_dataset/full/numpy_bitmap/dolphin.npy\n",
            "https://storage.googleapis.com/quickdraw_dataset/full/numpy_bitmap/fish.npy\n",
            "https://storage.googleapis.com/quickdraw_dataset/full/numpy_bitmap/horse.npy\n",
            "https://storage.googleapis.com/quickdraw_dataset/full/numpy_bitmap/pig.npy\n",
            "https://storage.googleapis.com/quickdraw_dataset/full/numpy_bitmap/rabbit.npy\n",
            "https://storage.googleapis.com/quickdraw_dataset/full/numpy_bitmap/swan.npy\n"
          ],
          "name": "stdout"
        }
      ]
    },
    {
      "cell_type": "markdown",
      "metadata": {
        "id": "QbFdRrEp6ths"
      },
      "source": [
        "Load the .npy files and preprocess the data. 15000 images per class. 80% for training and 20% for testing."
      ]
    },
    {
      "cell_type": "code",
      "metadata": {
        "id": "TT8Oh5F8Waxj"
      },
      "source": [
        "def load_preprocess_data(path):\n",
        "\n",
        "  #initialize variables\n",
        "  x = np.empty([0, 784]) #784 columns for every object\n",
        "  y = np.empty([0])\n",
        "  \n",
        "  #load files one by one\n",
        "  files = [x for x in os.listdir(path)]\n",
        "\n",
        "  #load to memory\n",
        "  for i, file in enumerate(files):\n",
        "    features = np.load(path + \"/\" + file)\n",
        "    features = features[0:30000, :]\n",
        "    labels = np.full(features.shape[0], i)\n",
        "\n",
        "    #concatenate to create x and y datasets\n",
        "    x = np.concatenate((x, features), axis=0)\n",
        "    y = np.append(y, labels)\n",
        "\n",
        "  features = None\n",
        "  labels = None\n",
        "\n",
        "  # Randomize all data\n",
        "  rand = np.random.permutation(y.shape[0])\n",
        "  x = x[rand, :]\n",
        "  y = y[rand]\n",
        "  \n",
        "  test_ratio = 0.2\n",
        "\n",
        "  #separate into training and testing\n",
        "  test_size = int(x.shape[0] / 100 * (test_ratio * 100)) #20% for testing\n",
        "  print(test_size)\n",
        "  #testing\n",
        "  x_test = x[0:test_size, :]\n",
        "  y_test = y[0:test_size]\n",
        "\n",
        "  #training\n",
        "  x_train = x[test_size:x.shape[0], :]\n",
        "  y_train = y[test_size:y.shape[0]]\n",
        "\n",
        "  return x_train, y_train, x_test, y_test\n",
        "\n"
      ],
      "execution_count": 8,
      "outputs": []
    },
    {
      "cell_type": "code",
      "metadata": {
        "id": "STkHPVnmZqVC",
        "outputId": "56339ead-448a-4ecf-82f5-7191aa876a05",
        "colab": {
          "base_uri": "https://localhost:8080/"
        }
      },
      "source": [
        "x_train, y_train, x_test, y_test = load_preprocess_data(\"objects\")"
      ],
      "execution_count": 9,
      "outputs": [
        {
          "output_type": "stream",
          "text": [
            "72000\n"
          ],
          "name": "stdout"
        }
      ]
    },
    {
      "cell_type": "markdown",
      "metadata": {
        "id": "4GElMWplMw3_"
      },
      "source": [
        "Print some random images"
      ]
    },
    {
      "cell_type": "code",
      "metadata": {
        "id": "d3P_oPhiatM3",
        "outputId": "dd7f6218-0b1d-46ec-8a34-1472f6a2ebaf",
        "colab": {
          "base_uri": "https://localhost:8080/",
          "height": 298
        }
      },
      "source": [
        "import matplotlib.pyplot as plt\n",
        "from random import randint\n",
        "\n",
        "idx = randint(0, len(x_train))\n",
        "plt.imshow(x_train[idx].reshape(28,28), cmap=\"gray_r\")\n",
        "plt.title(classes[int(y_train[idx].item())])\n"
      ],
      "execution_count": 12,
      "outputs": [
        {
          "output_type": "execute_result",
          "data": {
            "text/plain": [
              "Text(0.5, 1.0, 'bat')"
            ]
          },
          "metadata": {
            "tags": []
          },
          "execution_count": 12
        },
        {
          "output_type": "display_data",
          "data": {
            "image/png": "[encoded data removed]",
            "text/plain": [
              "<Figure size 432x288 with 1 Axes>"
            ]
          },
          "metadata": {
            "tags": [],
            "needs_background": "light"
          }
        }
      ]
    },
    {
      "cell_type": "code",
      "metadata": {
        "id": "OcgirnfsBz6p"
      },
      "source": [
        "# Reshape and normalize, image size is 28x28\n",
        "#The model will take batches of the shape [N, 28, 28,1]\n",
        "#Outputs probabilities of the shape [N, 10]\n",
        "x_train = x_train.reshape(x_train.shape[0], 28, 28, 1).astype('float32')\n",
        "x_test = x_test.reshape(x_test.shape[0], 28, 28, 1).astype('float32')\n",
        "\n",
        "x_train /= 255.0\n",
        "x_test /= 255.0\n",
        "\n",
        "# Convert class vectors to class matrices\n",
        "num_classes = 12\n",
        "y_train = keras.utils.to_categorical(y_train, num_classes)\n",
        "y_test = keras.utils.to_categorical(y_test, num_classes)"
      ],
      "execution_count": 13,
      "outputs": []
    },
    {
      "cell_type": "code",
      "metadata": {
        "id": "8zWEuzdcGgI4",
        "outputId": "82c46cff-0780-445e-c7b4-d6190410e831",
        "colab": {
          "base_uri": "https://localhost:8080/"
        }
      },
      "source": [
        "print(x_train.shape, y_train.shape, x_test.shape, y_test.shape)"
      ],
      "execution_count": 14,
      "outputs": [
        {
          "output_type": "stream",
          "text": [
            "(288000, 28, 28, 1) (288000, 12) (72000, 28, 28, 1) (72000, 12)\n"
          ],
          "name": "stdout"
        }
      ]
    },
    {
      "cell_type": "code",
      "metadata": {
        "id": "etUvwaDviDbH",
        "outputId": "1ee1afc5-513c-45d1-8735-ace167f338d4",
        "colab": {
          "base_uri": "https://localhost:8080/"
        }
      },
      "source": [
        "print(x_train.shape[1:])"
      ],
      "execution_count": 15,
      "outputs": [
        {
          "output_type": "stream",
          "text": [
            "(28, 28, 1)\n"
          ],
          "name": "stdout"
        }
      ]
    },
    {
      "cell_type": "code",
      "metadata": {
        "id": "6mTMSI0bnK4O",
        "outputId": "a8900723-5233-495d-bc8f-7a5c8ee34a12",
        "colab": {
          "base_uri": "https://localhost:8080/"
        }
      },
      "source": [
        "from keras.layers import Dense, Flatten, Conv2D\n",
        "from keras.layers import MaxPooling2D, Dropout\n",
        "\n",
        "# Define model\n",
        "model = Sequential()\n",
        "# input image 28x28, 3-channels\n",
        "model.add(Conv2D(16, (3, 3), padding=\"same\", input_shape=(28, 28, 1), activation=\"relu\"))\n",
        "model.add(MaxPooling2D(pool_size=(2, 2)))\n",
        "\n",
        "model.add(Conv2D(32, (3, 3), padding=\"same\", activation= \"relu\"))\n",
        "model.add(MaxPooling2D(pool_size=(2, 2)))\n",
        "\n",
        "model.add(Conv2D(64, (3, 3), padding=\"same\", activation= \"relu\"))\n",
        "model.add(MaxPooling2D(pool_size =(2,2)))\n",
        "\n",
        "model.add(Dropout(0.2))\n",
        "# flatten output of convolution from 3D to 1D\n",
        "model.add(Flatten())\n",
        "# hidden layer\n",
        "model.add(Dense(128, activation=\"relu\"))\n",
        "# output layer\n",
        "model.add(Dense(12, activation=\"softmax\"))\n",
        "#compile the model\n",
        "model.compile(loss=\"categorical_crossentropy\",\n",
        "              optimizer=\"adam\",\n",
        "              metrics=[\"accuracy\"])\n",
        "\n",
        "print(model.summary())"
      ],
      "execution_count": 16,
      "outputs": [
        {
          "output_type": "stream",
          "text": [
            "Model: \"sequential\"\n",
            "_________________________________________________________________\n",
            "Layer (type)                 Output Shape              Param #   \n",
            "=================================================================\n",
            "conv2d (Conv2D)              (None, 28, 28, 16)        160       \n",
            "_________________________________________________________________\n",
            "max_pooling2d (MaxPooling2D) (None, 14, 14, 16)        0         \n",
            "_________________________________________________________________\n",
            "conv2d_1 (Conv2D)            (None, 14, 14, 32)        4640      \n",
            "_________________________________________________________________\n",
            "max_pooling2d_1 (MaxPooling2 (None, 7, 7, 32)          0         \n",
            "_________________________________________________________________\n",
            "conv2d_2 (Conv2D)            (None, 7, 7, 64)          18496     \n",
            "_________________________________________________________________\n",
            "max_pooling2d_2 (MaxPooling2 (None, 3, 3, 64)          0         \n",
            "_________________________________________________________________\n",
            "dropout (Dropout)            (None, 3, 3, 64)          0         \n",
            "_________________________________________________________________\n",
            "flatten (Flatten)            (None, 576)               0         \n",
            "_________________________________________________________________\n",
            "dense (Dense)                (None, 128)               73856     \n",
            "_________________________________________________________________\n",
            "dense_1 (Dense)              (None, 12)                1548      \n",
            "=================================================================\n",
            "Total params: 98,700\n",
            "Trainable params: 98,700\n",
            "Non-trainable params: 0\n",
            "_________________________________________________________________\n",
            "None\n"
          ],
          "name": "stdout"
        }
      ]
    },
    {
      "cell_type": "code",
      "metadata": {
        "id": "JwqEbpc5nZPZ",
        "outputId": "bd40ab91-18f2-429b-d54c-838db0e34ac7",
        "colab": {
          "base_uri": "https://localhost:8080/"
        }
      },
      "source": [
        "# Train and build the model\n",
        "epochs = 10\n",
        "history = model.fit(x=x_train, y=y_train, validation_split=0.1, batch_size=256, verbose=2, epochs=epochs)"
      ],
      "execution_count": 20,
      "outputs": [
        {
          "output_type": "stream",
          "text": [
            "Epoch 1/10\n",
            "1013/1013 - 188s - loss: 0.5517 - accuracy: 0.8208 - val_loss: 0.5266 - val_accuracy: 0.8289\n",
            "Epoch 2/10\n",
            "1013/1013 - 189s - loss: 0.5330 - accuracy: 0.8276 - val_loss: 0.5212 - val_accuracy: 0.8313\n",
            "Epoch 3/10\n",
            "1013/1013 - 186s - loss: 0.5178 - accuracy: 0.8320 - val_loss: 0.5143 - val_accuracy: 0.8340\n",
            "Epoch 4/10\n",
            "1013/1013 - 187s - loss: 0.5059 - accuracy: 0.8352 - val_loss: 0.4970 - val_accuracy: 0.8389\n",
            "Epoch 5/10\n",
            "1013/1013 - 180s - loss: 0.4949 - accuracy: 0.8384 - val_loss: 0.4973 - val_accuracy: 0.8379\n",
            "Epoch 6/10\n",
            "1013/1013 - 185s - loss: 0.4841 - accuracy: 0.8422 - val_loss: 0.4920 - val_accuracy: 0.8390\n",
            "Epoch 7/10\n",
            "1013/1013 - 189s - loss: 0.4744 - accuracy: 0.8451 - val_loss: 0.4899 - val_accuracy: 0.8409\n",
            "Epoch 8/10\n",
            "1013/1013 - 188s - loss: 0.4676 - accuracy: 0.8470 - val_loss: 0.4947 - val_accuracy: 0.8377\n",
            "Epoch 9/10\n",
            "1013/1013 - 188s - loss: 0.4603 - accuracy: 0.8484 - val_loss: 0.4823 - val_accuracy: 0.8440\n",
            "Epoch 10/10\n",
            "1013/1013 - 185s - loss: 0.4523 - accuracy: 0.8513 - val_loss: 0.4852 - val_accuracy: 0.8413\n"
          ],
          "name": "stdout"
        }
      ]
    },
    {
      "cell_type": "code",
      "metadata": {
        "id": "vhYtTuDFHeND",
        "outputId": "e908dfc7-6086-41f1-fea4-293916a64700",
        "colab": {
          "base_uri": "https://localhost:8080/"
        }
      },
      "source": [
        "score = model.evaluate(x_test, y_test, verbose=0)\n",
        "print('Test accuracy: {:0.2f}%'.format(score[1]*100))"
      ],
      "execution_count": 21,
      "outputs": [
        {
          "output_type": "stream",
          "text": [
            "Test accuracy: 84.48%\n"
          ],
          "name": "stdout"
        }
      ]
    },
    {
      "cell_type": "code",
      "metadata": {
        "id": "VT8YUNq7pKXR",
        "outputId": "ede5ea9d-f93f-46b6-9bca-f41144a65d0e",
        "colab": {
          "base_uri": "https://localhost:8080/",
          "height": 320
        }
      },
      "source": [
        "pd.DataFrame(history.history).plot(figsize=(8,5))\n",
        "plt.grid(True)"
      ],
      "execution_count": 22,
      "outputs": [
        {
          "output_type": "display_data",
          "data": {
            "image/png": "[encoded data removed]",
            "text/plain": [
              "<Figure size 576x360 with 1 Axes>"
            ]
          },
          "metadata": {
            "tags": [],
            "needs_background": "light"
          }
        }
      ]
    },
    {
      "cell_type": "code",
      "metadata": {
        "id": "FWHEJ0UopiQZ",
        "outputId": "3e4daa90-d597-4a8b-f49c-60e86ab1ab3b",
        "colab": {
          "base_uri": "https://localhost:8080/"
        }
      },
      "source": [
        "pred = model.predict(x_test)\n",
        "#results = model.evaluate(x_test, y_test)\n",
        "\n",
        "print(f\"After 5 epochs, the loss is {score[0]}, and the accuracy is {score[1]}\")"
      ],
      "execution_count": 24,
      "outputs": [
        {
          "output_type": "stream",
          "text": [
            "After 5 epochs, the loss is 0.4854990243911743, and the accuracy is 0.8448055386543274\n"
          ],
          "name": "stdout"
        }
      ]
    },
    {
      "cell_type": "markdown",
      "metadata": {
        "id": "Q3zKMlJizODP"
      },
      "source": [
        "Get errors"
      ]
    },
    {
      "cell_type": "code",
      "metadata": {
        "id": "WD1Z3LH4p3fM",
        "outputId": "6e85b794-1b41-411d-dfa1-85351dd36f69",
        "colab": {
          "base_uri": "https://localhost:8080/",
          "height": 551
        }
      },
      "source": [
        "y_pred = np.argmax(pred, axis = 1)\n",
        "y = np.argmax(y_test, axis = 1)\n",
        "\n",
        "# Get the indices of the bad labels\n",
        "bad_pred = np.argwhere((y == y_pred) == False).squeeze()\n",
        "\n",
        "#Plot\n",
        "fig, axes = plt.subplots(3, 3, figsize=(9, 9))\n",
        "\n",
        "for i, ax in enumerate(axes.flatten()):\n",
        "    idx = np.random.choice(bad_pred)\n",
        "    x_show = np.squeeze(x_test[idx])\n",
        "    ax.imshow(x_show, cmap=\"gray_r\", interpolation=\"nearest\")\n",
        "    ax.set_title(f\"True label: {classes[y[idx]]}, \\nPrediction: {classes[y_pred[idx]]}\")\n",
        "    ax.axis(\"off\")"
      ],
      "execution_count": 43,
      "outputs": [
        {
          "output_type": "display_data",
          "data": {
            "image/png": "[encoded data removed]",
            "text/plain": [
              "<Figure size 648x648 with 9 Axes>"
            ]
          },
          "metadata": {
            "tags": [],
            "needs_background": "light"
          }
        }
      ]
    },
    {
      "cell_type": "markdown",
      "metadata": {
        "id": "Vk1xGBbxzRmI"
      },
      "source": [
        "Print top 3 predictions for a object"
      ]
    },
    {
      "cell_type": "code",
      "metadata": {
        "id": "M8BhbkW6qHId",
        "outputId": "bb33e12b-1670-4836-fffe-80bc42471827",
        "colab": {
          "base_uri": "https://localhost:8080/",
          "height": 281
        }
      },
      "source": [
        "id_x = randint(0, len(x_test))\n",
        "img = x_test[id_x]\n",
        "plt.imshow(img.squeeze(), cmap=\"gray_r\")\n",
        "pred1 = model.predict(np.expand_dims(img, axis=0))[0]\n",
        "ind = (-pred1).argsort()[:3]\n",
        "latex = [classes[x] for x in ind]\n",
        "plt.title(latex)\n",
        "plt.show()"
      ],
      "execution_count": 54,
      "outputs": [
        {
          "output_type": "display_data",
          "data": {
            "image/png": "[encoded data removed]",
            "text/plain": [
              "<Figure size 432x288 with 1 Axes>"
            ]
          },
          "metadata": {
            "tags": [],
            "needs_background": "light"
          }
        }
      ]
    },
    {
      "cell_type": "markdown",
      "metadata": {
        "id": "mygVfrD7zbzM"
      },
      "source": [
        "Store the classes"
      ]
    },
    {
      "cell_type": "code",
      "metadata": {
        "id": "DIDEsHKeqV3w"
      },
      "source": [
        "with open('classes.txt', 'w') as file_handler:\n",
        "    for item in classes:\n",
        "        file_handler.write(\"{}\\n\".format(item))"
      ],
      "execution_count": 55,
      "outputs": []
    },
    {
      "cell_type": "code",
      "metadata": {
        "id": "L-Jj7S0zqxS9",
        "outputId": "754aab72-d7e3-4527-acac-6ae6c6f1b9d7",
        "colab": {
          "base_uri": "https://localhost:8080/"
        }
      },
      "source": [
        "!pip install tensorflowjs"
      ],
      "execution_count": 56,
      "outputs": [
        {
          "output_type": "stream",
          "text": [
            "Collecting tensorflowjs\n",
            "\u001b[?25l  Downloading https://files.pythonhosted.org/packages/e8/c8/c52e21c49b3baf0845e395241046a993e244dd4b94c9827a8cd2d9b18927/tensorflowjs-2.7.0-py3-none-any.whl (62kB)\n",
            "\r\u001b[K     |█████▎                          | 10kB 14.0MB/s eta 0:00:01\r\u001b[K     |██████████▌                     | 20kB 1.7MB/s eta 0:00:01\r\u001b[K     |███████████████▊                | 30kB 2.2MB/s eta 0:00:01\r\u001b[K     |█████████████████████           | 40kB 2.4MB/s eta 0:00:01\r\u001b[K     |██████████████████████████▏     | 51kB 2.0MB/s eta 0:00:01\r\u001b[K     |███████████████████████████████▍| 61kB 2.2MB/s eta 0:00:01\r\u001b[K     |████████████████████████████████| 71kB 2.0MB/s \n",
            "\u001b[?25hRequirement already satisfied: tensorflow<3,>=2.1.0 in /usr/local/lib/python3.6/dist-packages (from tensorflowjs) (2.3.0)\n",
            "Requirement already satisfied: h5py<3,>=2.8.0 in /usr/local/lib/python3.6/dist-packages (from tensorflowjs) (2.10.0)\n",
            "Requirement already satisfied: six<2,>=1.12.0 in /usr/local/lib/python3.6/dist-packages (from tensorflowjs) (1.15.0)\n",
            "Requirement already satisfied: tensorflow-hub<0.10,>=0.7.0 in /usr/local/lib/python3.6/dist-packages (from tensorflowjs) (0.9.0)\n",
            "Requirement already satisfied: numpy<1.19.0,>=1.16.0 in /usr/local/lib/python3.6/dist-packages (from tensorflow<3,>=2.1.0->tensorflowjs) (1.18.5)\n",
            "Requirement already satisfied: astunparse==1.6.3 in /usr/local/lib/python3.6/dist-packages (from tensorflow<3,>=2.1.0->tensorflowjs) (1.6.3)\n",
            "Requirement already satisfied: opt-einsum>=2.3.2 in /usr/local/lib/python3.6/dist-packages (from tensorflow<3,>=2.1.0->tensorflowjs) (3.3.0)\n",
            "Requirement already satisfied: google-pasta>=0.1.8 in /usr/local/lib/python3.6/dist-packages (from tensorflow<3,>=2.1.0->tensorflowjs) (0.2.0)\n",
            "Requirement already satisfied: wrapt>=1.11.1 in /usr/local/lib/python3.6/dist-packages (from tensorflow<3,>=2.1.0->tensorflowjs) (1.12.1)\n",
            "Requirement already satisfied: tensorboard<3,>=2.3.0 in /usr/local/lib/python3.6/dist-packages (from tensorflow<3,>=2.1.0->tensorflowjs) (2.3.0)\n",
            "Requirement already satisfied: wheel>=0.26 in /usr/local/lib/python3.6/dist-packages (from tensorflow<3,>=2.1.0->tensorflowjs) (0.35.1)\n",
            "Requirement already satisfied: keras-preprocessing<1.2,>=1.1.1 in /usr/local/lib/python3.6/dist-packages (from tensorflow<3,>=2.1.0->tensorflowjs) (1.1.2)\n",
            "Requirement already satisfied: absl-py>=0.7.0 in /usr/local/lib/python3.6/dist-packages (from tensorflow<3,>=2.1.0->tensorflowjs) (0.10.0)\n",
            "Requirement already satisfied: protobuf>=3.9.2 in /usr/local/lib/python3.6/dist-packages (from tensorflow<3,>=2.1.0->tensorflowjs) (3.12.4)\n",
            "Requirement already satisfied: termcolor>=1.1.0 in /usr/local/lib/python3.6/dist-packages (from tensorflow<3,>=2.1.0->tensorflowjs) (1.1.0)\n",
            "Requirement already satisfied: grpcio>=1.8.6 in /usr/local/lib/python3.6/dist-packages (from tensorflow<3,>=2.1.0->tensorflowjs) (1.33.1)\n",
            "Requirement already satisfied: tensorflow-estimator<2.4.0,>=2.3.0 in /usr/local/lib/python3.6/dist-packages (from tensorflow<3,>=2.1.0->tensorflowjs) (2.3.0)\n",
            "Requirement already satisfied: scipy==1.4.1 in /usr/local/lib/python3.6/dist-packages (from tensorflow<3,>=2.1.0->tensorflowjs) (1.4.1)\n",
            "Requirement already satisfied: gast==0.3.3 in /usr/local/lib/python3.6/dist-packages (from tensorflow<3,>=2.1.0->tensorflowjs) (0.3.3)\n",
            "Requirement already satisfied: google-auth-oauthlib<0.5,>=0.4.1 in /usr/local/lib/python3.6/dist-packages (from tensorboard<3,>=2.3.0->tensorflow<3,>=2.1.0->tensorflowjs) (0.4.1)\n",
            "Requirement already satisfied: setuptools>=41.0.0 in /usr/local/lib/python3.6/dist-packages (from tensorboard<3,>=2.3.0->tensorflow<3,>=2.1.0->tensorflowjs) (50.3.2)\n",
            "Requirement already satisfied: google-auth<2,>=1.6.3 in /usr/local/lib/python3.6/dist-packages (from tensorboard<3,>=2.3.0->tensorflow<3,>=2.1.0->tensorflowjs) (1.17.2)\n",
            "Requirement already satisfied: markdown>=2.6.8 in /usr/local/lib/python3.6/dist-packages (from tensorboard<3,>=2.3.0->tensorflow<3,>=2.1.0->tensorflowjs) (3.3.2)\n",
            "Requirement already satisfied: werkzeug>=0.11.15 in /usr/local/lib/python3.6/dist-packages (from tensorboard<3,>=2.3.0->tensorflow<3,>=2.1.0->tensorflowjs) (1.0.1)\n",
            "Requirement already satisfied: tensorboard-plugin-wit>=1.6.0 in /usr/local/lib/python3.6/dist-packages (from tensorboard<3,>=2.3.0->tensorflow<3,>=2.1.0->tensorflowjs) (1.7.0)\n",
            "Requirement already satisfied: requests<3,>=2.21.0 in /usr/local/lib/python3.6/dist-packages (from tensorboard<3,>=2.3.0->tensorflow<3,>=2.1.0->tensorflowjs) (2.23.0)\n",
            "Requirement already satisfied: requests-oauthlib>=0.7.0 in /usr/local/lib/python3.6/dist-packages (from google-auth-oauthlib<0.5,>=0.4.1->tensorboard<3,>=2.3.0->tensorflow<3,>=2.1.0->tensorflowjs) (1.3.0)\n",
            "Requirement already satisfied: cachetools<5.0,>=2.0.0 in /usr/local/lib/python3.6/dist-packages (from google-auth<2,>=1.6.3->tensorboard<3,>=2.3.0->tensorflow<3,>=2.1.0->tensorflowjs) (4.1.1)\n",
            "Requirement already satisfied: pyasn1-modules>=0.2.1 in /usr/local/lib/python3.6/dist-packages (from google-auth<2,>=1.6.3->tensorboard<3,>=2.3.0->tensorflow<3,>=2.1.0->tensorflowjs) (0.2.8)\n",
            "Requirement already satisfied: rsa<5,>=3.1.4; python_version >= \"3\" in /usr/local/lib/python3.6/dist-packages (from google-auth<2,>=1.6.3->tensorboard<3,>=2.3.0->tensorflow<3,>=2.1.0->tensorflowjs) (4.6)\n",
            "Requirement already satisfied: importlib-metadata; python_version < \"3.8\" in /usr/local/lib/python3.6/dist-packages (from markdown>=2.6.8->tensorboard<3,>=2.3.0->tensorflow<3,>=2.1.0->tensorflowjs) (2.0.0)\n",
            "Requirement already satisfied: idna<3,>=2.5 in /usr/local/lib/python3.6/dist-packages (from requests<3,>=2.21.0->tensorboard<3,>=2.3.0->tensorflow<3,>=2.1.0->tensorflowjs) (2.10)\n",
            "Requirement already satisfied: chardet<4,>=3.0.2 in /usr/local/lib/python3.6/dist-packages (from requests<3,>=2.21.0->tensorboard<3,>=2.3.0->tensorflow<3,>=2.1.0->tensorflowjs) (3.0.4)\n",
            "Requirement already satisfied: certifi>=2017.4.17 in /usr/local/lib/python3.6/dist-packages (from requests<3,>=2.21.0->tensorboard<3,>=2.3.0->tensorflow<3,>=2.1.0->tensorflowjs) (2020.6.20)\n",
            "Requirement already satisfied: urllib3!=1.25.0,!=1.25.1,<1.26,>=1.21.1 in /usr/local/lib/python3.6/dist-packages (from requests<3,>=2.21.0->tensorboard<3,>=2.3.0->tensorflow<3,>=2.1.0->tensorflowjs) (1.24.3)\n",
            "Requirement already satisfied: oauthlib>=3.0.0 in /usr/local/lib/python3.6/dist-packages (from requests-oauthlib>=0.7.0->google-auth-oauthlib<0.5,>=0.4.1->tensorboard<3,>=2.3.0->tensorflow<3,>=2.1.0->tensorflowjs) (3.1.0)\n",
            "Requirement already satisfied: pyasn1<0.5.0,>=0.4.6 in /usr/local/lib/python3.6/dist-packages (from pyasn1-modules>=0.2.1->google-auth<2,>=1.6.3->tensorboard<3,>=2.3.0->tensorflow<3,>=2.1.0->tensorflowjs) (0.4.8)\n",
            "Requirement already satisfied: zipp>=0.5 in /usr/local/lib/python3.6/dist-packages (from importlib-metadata; python_version < \"3.8\"->markdown>=2.6.8->tensorboard<3,>=2.3.0->tensorflow<3,>=2.1.0->tensorflowjs) (3.3.1)\n",
            "Installing collected packages: tensorflowjs\n",
            "Successfully installed tensorflowjs-2.7.0\n"
          ],
          "name": "stdout"
        }
      ]
    },
    {
      "cell_type": "markdown",
      "metadata": {
        "id": "Z-s4qm09zln0"
      },
      "source": [
        "Save and convert model"
      ]
    },
    {
      "cell_type": "code",
      "metadata": {
        "id": "--Bq51PDq7bk"
      },
      "source": [
        "model.save('keras.h5')"
      ],
      "execution_count": 57,
      "outputs": []
    },
    {
      "cell_type": "code",
      "metadata": {
        "id": "P1cJoR00q_6Q",
        "outputId": "8c3132a5-7f11-4be6-f06f-be9de033d228",
        "colab": {
          "base_uri": "https://localhost:8080/"
        }
      },
      "source": [
        "!mkdir -p newmodel\n",
        "!tensorflowjs_converter --input_format keras keras.h5 newmodel/"
      ],
      "execution_count": 58,
      "outputs": [
        {
          "output_type": "stream",
          "text": [
            "2020-11-04 15:05:28.645717: I tensorflow/stream_executor/platform/default/dso_loader.cc:48] Successfully opened dynamic library libcudart.so.10.1\n"
          ],
          "name": "stdout"
        }
      ]
    },
    {
      "cell_type": "markdown",
      "metadata": {
        "id": "bwShsDtgzqdy"
      },
      "source": [
        "Download model"
      ]
    },
    {
      "cell_type": "code",
      "metadata": {
        "id": "sfPD4xrDrPaF"
      },
      "source": [
        "!cp classes.txt newmodel/classes.txt"
      ],
      "execution_count": 59,
      "outputs": []
    },
    {
      "cell_type": "code",
      "metadata": {
        "id": "HXUKq3ETrW_Z",
        "outputId": "e7d6748d-8fdf-479b-9794-3bd6e6922ef2",
        "colab": {
          "base_uri": "https://localhost:8080/"
        }
      },
      "source": [
        "!zip -r newmodel.zip newmodel"
      ],
      "execution_count": 60,
      "outputs": [
        {
          "output_type": "stream",
          "text": [
            "  adding: newmodel/ (stored 0%)\n",
            "  adding: newmodel/classes.txt (deflated 12%)\n",
            "  adding: newmodel/group1-shard1of1.bin (deflated 7%)\n",
            "  adding: newmodel/model.json (deflated 82%)\n"
          ],
          "name": "stdout"
        }
      ]
    },
    {
      "cell_type": "code",
      "metadata": {
        "id": "m-2QHgwHrkgz",
        "outputId": "fe38ec41-35f4-4597-ccc6-803912fa7a8b",
        "colab": {
          "base_uri": "https://localhost:8080/",
          "height": 17
        }
      },
      "source": [
        "from google.colab import files \n",
        "files.download('newmodel.zip')"
      ],
      "execution_count": 61,
      "outputs": [
        {
          "output_type": "display_data",
          "data": {
            "application/javascript": [
              "\n",
              "    async function download(id, filename, size) {\n",
              "      if (!google.colab.kernel.accessAllowed) {\n",
              "        return;\n",
              "      }\n",
              "      const div = document.createElement('div');\n",
              "      const label = document.createElement('label');\n",
              "      label.textContent = `Downloading \"${filename}\": `;\n",
              "      div.appendChild(label);\n",
              "      const progress = document.createElement('progress');\n",
              "      progress.max = size;\n",
              "      div.appendChild(progress);\n",
              "      document.body.appendChild(div);\n",
              "\n",
              "      const buffers = [];\n",
              "      let downloaded = 0;\n",
              "\n",
              "      const channel = await google.colab.kernel.comms.open(id);\n",
              "      // Send a message to notify the kernel that we're ready.\n",
              "      channel.send({})\n",
              "\n",
              "      for await (const message of channel.messages) {\n",
              "        // Send a message to notify the kernel that we're ready.\n",
              "        channel.send({})\n",
              "        if (message.buffers) {\n",
              "          for (const buffer of message.buffers) {\n",
              "            buffers.push(buffer);\n",
              "            downloaded += buffer.byteLength;\n",
              "            progress.value = downloaded;\n",
              "          }\n",
              "        }\n",
              "      }\n",
              "      const blob = new Blob(buffers, {type: 'application/binary'});\n",
              "      const a = document.createElement('a');\n",
              "      a.href = window.URL.createObjectURL(blob);\n",
              "      a.download = filename;\n",
              "      div.appendChild(a);\n",
              "      a.click();\n",
              "      div.remove();\n",
              "    }\n",
              "  "
            ],
            "text/plain": [
              "<IPython.core.display.Javascript object>"
            ]
          },
          "metadata": {
            "tags": []
          }
        },
        {
          "output_type": "display_data",
          "data": {
            "application/javascript": [
              "download(\"download_a6f04c68-f1f0-497d-aebc-9421270b5f00\", \"newmodel.zip\", 368123)"
            ],
            "text/plain": [
              "<IPython.core.display.Javascript object>"
            ]
          },
          "metadata": {
            "tags": []
          }
        }
      ]
    }
  ]
}