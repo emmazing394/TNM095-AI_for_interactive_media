{
  "nbformat": 4,
  "nbformat_minor": 0,
  "metadata": {
    "colab": {
      "name": "aidraw.ipynb",
      "provenance": [],
      "collapsed_sections": [],
      "include_colab_link": true
    },
    "kernelspec": {
      "name": "python3",
      "display_name": "Python 3"
    }
  },
  "cells": [
    {
      "cell_type": "markdown",
      "metadata": {
        "id": "view-in-github",
        "colab_type": "text"
      },
      "source": [
        "<a href=\"https://colab.research.google.com/github/emmazing394/TNM095-AI_for_interactive_media/blob/master/aidraw.ipynb\" target=\"_parent\"><img src=\"https://colab.research.google.com/assets/colab-badge.svg\" alt=\"Open In Colab\"/></a>"
      ]
    },
    {
      "cell_type": "code",
      "metadata": {
        "id": "izLTaCXilHN6"
      },
      "source": [
        "import numpy as np\n",
        "import tensorflow as tf\n",
        "from tensorflow import keras\n",
        "from keras.models import Sequential\n",
        "import os\n",
        "from tensorflow.keras import layers\n",
        "import urllib.request\n",
        "import pandas as pd\n"
      ],
      "execution_count": 201,
      "outputs": []
    },
    {
      "cell_type": "markdown",
      "metadata": {
        "id": "cAMdBTU76IYn"
      },
      "source": [
        "Get classes from quick draw dataset. We choose 12 animals from the 345 categories to train our model on."
      ]
    },
    {
      "cell_type": "code",
      "metadata": {
        "id": "KW-F6oS1U4au"
      },
      "source": [
        "base = 'https://storage.googleapis.com/quickdraw_dataset/full/numpy_bitmap/'\n",
        "\n",
        "#classes = [\"ant\", \"bat\", \"bear\", \"bee\", \"bird\", \"butterfly\", \"camel\", \"cat\", \"cow\", \"crab\",\n",
        "#          \"crocodile\", \"dog\", \"dolphin\", \"dragon\", \"duck\", \"elephant\", \"fish\", \"flamingo\", \"frog\",\n",
        "#          \"giraffe\", \"hedgehog\", \"horse\", \"kangaroo\", \"lion\", \"lobster\", \"mermaid\", \"monkey\",\n",
        "#          \"mouse\", \"octopus\", \"owl\", \"parrot\", \"penguin\", \"pig\", \"rabbit\", \"raccoon\", \"rhinoceros\", \"scorpion\", \n",
        "#          \"shark\", \"sheep\", \"snail\", \"snake\", \"snowman\", \"spider\", \"squirrel\", \"swan\", \"teddy-bear\", \n",
        "#           \"tiger\", \"whale\", \"zebra\"]\n",
        "\n",
        "classes = [\"ant\", \"bat\", \"bee\", \"bird\", \"cat\", \"dog\", \"dolphin\", \"fish\", \n",
        "           \"horse\", \"pig\", \"rabbit\", \"swan\"]"
      ],
      "execution_count": 138,
      "outputs": []
    },
    {
      "cell_type": "markdown",
      "metadata": {
        "id": "nzvE5z3f6VGf"
      },
      "source": [
        "Create direction objects "
      ]
    },
    {
      "cell_type": "code",
      "metadata": {
        "id": "9ByBWy5KVtRA"
      },
      "source": [
        "!mkdir -p objects"
      ],
      "execution_count": 139,
      "outputs": []
    },
    {
      "cell_type": "markdown",
      "metadata": {
        "id": "-b7Tn-_tlSeS"
      },
      "source": [
        "Download classes to folder objects"
      ]
    },
    {
      "cell_type": "code",
      "metadata": {
        "id": "5TJjzkG5lYtk"
      },
      "source": [
        "def download():\n",
        "\n",
        "  for c in classes:\n",
        "    path = base+c+'.npy'\n",
        "    print(path)\n",
        "    urllib.request.urlretrieve(path, 'objects/'+ c +'.npy')\n"
      ],
      "execution_count": 140,
      "outputs": []
    },
    {
      "cell_type": "code",
      "metadata": {
        "id": "VfLZ-vnDV9T8",
        "outputId": "542061f6-40ae-4da0-9845-3c85a0215a3b",
        "colab": {
          "base_uri": "https://localhost:8080/"
        }
      },
      "source": [
        "download()"
      ],
      "execution_count": 141,
      "outputs": [
        {
          "output_type": "stream",
          "text": [
            "https://storage.googleapis.com/quickdraw_dataset/full/numpy_bitmap/ant.npy\n",
            "https://storage.googleapis.com/quickdraw_dataset/full/numpy_bitmap/bat.npy\n",
            "https://storage.googleapis.com/quickdraw_dataset/full/numpy_bitmap/bee.npy\n",
            "https://storage.googleapis.com/quickdraw_dataset/full/numpy_bitmap/bird.npy\n",
            "https://storage.googleapis.com/quickdraw_dataset/full/numpy_bitmap/cat.npy\n",
            "https://storage.googleapis.com/quickdraw_dataset/full/numpy_bitmap/dog.npy\n",
            "https://storage.googleapis.com/quickdraw_dataset/full/numpy_bitmap/dolphin.npy\n",
            "https://storage.googleapis.com/quickdraw_dataset/full/numpy_bitmap/fish.npy\n",
            "https://storage.googleapis.com/quickdraw_dataset/full/numpy_bitmap/horse.npy\n",
            "https://storage.googleapis.com/quickdraw_dataset/full/numpy_bitmap/pig.npy\n",
            "https://storage.googleapis.com/quickdraw_dataset/full/numpy_bitmap/rabbit.npy\n",
            "https://storage.googleapis.com/quickdraw_dataset/full/numpy_bitmap/swan.npy\n"
          ],
          "name": "stdout"
        }
      ]
    },
    {
      "cell_type": "markdown",
      "metadata": {
        "id": "QbFdRrEp6ths"
      },
      "source": [
        "Load the .npy files and preprocess the data. 15000 images per class. 80% for training and 20% for testing."
      ]
    },
    {
      "cell_type": "code",
      "metadata": {
        "id": "TT8Oh5F8Waxj"
      },
      "source": [
        "def load_preprocess_data(path, test_ratio=0.2, maxItemsPerClass = 16000):\n",
        "\n",
        "  #initialize variables\n",
        "  x = np.empty([0, 784])\n",
        "  y = np.empty([0])\n",
        "  \n",
        "  #load files one by one\n",
        "  files = [x for x in os.listdir(path)]\n",
        "\n",
        "  #load to memory\n",
        "  for i, file in enumerate(files):\n",
        "    data = np.load(path + \"/\" + file)\n",
        "    data = data[0: maxItemsPerClass, :]\n",
        "    labels = np.full(data.shape[0], i)\n",
        "\n",
        "    #concatenate to create x and y datasets\n",
        "    x = np.concatenate((x, data), axis=0)\n",
        "    y = np.append(y, labels)\n",
        "\n",
        "  data = None\n",
        "  labels = None\n",
        "\n",
        "  # Randomize the dataset\n",
        "  permutation = np.random.permutation(y.shape[0])\n",
        "  x = x[permutation, :]\n",
        "  y = y[permutation]\n",
        "\n",
        "  #separate into training and testing\n",
        "  test_size = int(x.shape[0] / 100 * (test_ratio * 100))\n",
        "\n",
        "  x_test = x[0:test_size, :]\n",
        "  y_test = y[0:test_size]\n",
        "\n",
        "  x_train = x[test_size:x.shape[0], :]\n",
        "  y_train = y[test_size:y.shape[0]]\n",
        "\n",
        "  return x_train, y_train, x_test, y_test\n",
        "\n"
      ],
      "execution_count": 142,
      "outputs": []
    },
    {
      "cell_type": "code",
      "metadata": {
        "id": "STkHPVnmZqVC"
      },
      "source": [
        "x_train, y_train, x_test, y_test = load_preprocess_data(\"objects\")"
      ],
      "execution_count": 143,
      "outputs": []
    },
    {
      "cell_type": "code",
      "metadata": {
        "id": "tNTZk3N2B6th",
        "outputId": "567260bd-2b0c-4822-e2ce-29d77674de97",
        "colab": {
          "base_uri": "https://localhost:8080/"
        }
      },
      "source": [
        "print(len(x_train))"
      ],
      "execution_count": 146,
      "outputs": [
        {
          "output_type": "stream",
          "text": [
            "153600\n"
          ],
          "name": "stdout"
        }
      ]
    },
    {
      "cell_type": "markdown",
      "metadata": {
        "id": "4GElMWplMw3_"
      },
      "source": [
        "Print some random images"
      ]
    },
    {
      "cell_type": "code",
      "metadata": {
        "id": "d3P_oPhiatM3",
        "outputId": "5bcdd9d7-0b11-4e87-8b76-06fe076378b5",
        "colab": {
          "base_uri": "https://localhost:8080/",
          "height": 298
        }
      },
      "source": [
        "import matplotlib.pyplot as plt\n",
        "from random import randint\n",
        "\n",
        "idx = randint(0, len(x_train))\n",
        "plt.imshow(x_train[idx].reshape(28,28), cmap=\"gray_r\")\n",
        "plt.title(classes[int(y_train[idx].item())])\n"
      ],
      "execution_count": 195,
      "outputs": [
        {
          "output_type": "execute_result",
          "data": {
            "text/plain": [
              "Text(0.5, 1.0, 'pig')"
            ]
          },
          "metadata": {
            "tags": []
          },
          "execution_count": 195
        },
        {
          "output_type": "display_data",
          "data": {
            "image/png": "[encoded data removed]",
            "text/plain": [
              "<Figure size 432x288 with 1 Axes>"
            ]
          },
          "metadata": {
            "tags": [],
            "needs_background": "light"
          }
        }
      ]
    },
    {
      "cell_type": "code",
      "metadata": {
        "id": "OcgirnfsBz6p"
      },
      "source": [
        "# Reshape and normalize, image size is 28x28\n",
        "#The model will take batches of the shape [N, 28, 28,1]\n",
        "#Outputs probabilities of the shape [N, 10]\n",
        "x_train = x_train.reshape(x_train.shape[0], 28, 28, 1).astype('float32')\n",
        "x_test = x_test.reshape(x_test.shape[0], 28, 28, 1).astype('float32')\n",
        "\n",
        "x_train /= 255.0\n",
        "x_test /= 255.0\n",
        "\n",
        "# Convert class vectors to class matrices\n",
        "num_classes = len(class_names)\n",
        "y_train = keras.utils.to_categorical(y_train, num_classes)\n",
        "y_test = keras.utils.to_categorical(y_test, num_classes)"
      ],
      "execution_count": 196,
      "outputs": []
    },
    {
      "cell_type": "code",
      "metadata": {
        "id": "8zWEuzdcGgI4",
        "outputId": "588d683d-4c2b-47cc-8d21-5faa3b98069e",
        "colab": {
          "base_uri": "https://localhost:8080/"
        }
      },
      "source": [
        "print(x_train.shape, y_train.shape, x_test.shape, y_test.shape)"
      ],
      "execution_count": 197,
      "outputs": [
        {
          "output_type": "stream",
          "text": [
            "(153600, 28, 28, 1) (153600, 12) (38400, 28, 28, 1) (38400, 12)\n"
          ],
          "name": "stdout"
        }
      ]
    },
    {
      "cell_type": "code",
      "metadata": {
        "id": "6mTMSI0bnK4O",
        "outputId": "ccb5dc9c-c173-4f7b-f542-acdb125bfd93",
        "colab": {
          "base_uri": "https://localhost:8080/"
        }
      },
      "source": [
        "# Define model\n",
        "model = Sequential()\n",
        "# input image 28x28, 3-channels\n",
        "model.add(keras.layers.Convolution2D(16, (3, 3), padding=\"same\", input_shape=x_train.shape[1:], activation=\"relu\"))\n",
        "model.add(keras.layers.MaxPooling2D(pool_size=(2, 2)))\n",
        "model.add(keras.layers.Convolution2D(32, (3, 3), padding=\"same\", activation= \"relu\"))\n",
        "model.add(keras.layers.MaxPooling2D(pool_size=(2, 2)))\n",
        "model.add(keras.layers.Convolution2D(64, (3, 3), padding=\"same\", activation= \"relu\"))\n",
        "model.add(keras.layers.MaxPooling2D(pool_size =(2,2)))\n",
        "model.add(keras.layers.Dropout(0.2))\n",
        "# flatten output of convolution from 3D to 1D\n",
        "model.add(keras.layers.Flatten())\n",
        "# hidden layer\n",
        "model.add(keras.layers.Dense(128, activation=\"relu\"))\n",
        "# output layer\n",
        "model.add(keras.layers.Dense(12, activation=\"softmax\"))\n",
        "#compile the model\n",
        "model.compile(loss=\"categorical_crossentropy\",\n",
        "              optimizer=\"adam\",\n",
        "              metrics=[\"accuracy\"])\n",
        "\n",
        "print(model.summary())"
      ],
      "execution_count": 198,
      "outputs": [
        {
          "output_type": "stream",
          "text": [
            "Model: \"sequential_1\"\n",
            "_________________________________________________________________\n",
            "Layer (type)                 Output Shape              Param #   \n",
            "=================================================================\n",
            "conv2d_3 (Conv2D)            (None, 28, 28, 16)        160       \n",
            "_________________________________________________________________\n",
            "max_pooling2d_3 (MaxPooling2 (None, 14, 14, 16)        0         \n",
            "_________________________________________________________________\n",
            "conv2d_4 (Conv2D)            (None, 14, 14, 32)        4640      \n",
            "_________________________________________________________________\n",
            "max_pooling2d_4 (MaxPooling2 (None, 7, 7, 32)          0         \n",
            "_________________________________________________________________\n",
            "conv2d_5 (Conv2D)            (None, 7, 7, 64)          18496     \n",
            "_________________________________________________________________\n",
            "max_pooling2d_5 (MaxPooling2 (None, 3, 3, 64)          0         \n",
            "_________________________________________________________________\n",
            "dropout_1 (Dropout)          (None, 3, 3, 64)          0         \n",
            "_________________________________________________________________\n",
            "flatten_1 (Flatten)          (None, 576)               0         \n",
            "_________________________________________________________________\n",
            "dense_2 (Dense)              (None, 128)               73856     \n",
            "_________________________________________________________________\n",
            "dense_3 (Dense)              (None, 12)                1548      \n",
            "=================================================================\n",
            "Total params: 98,700\n",
            "Trainable params: 98,700\n",
            "Non-trainable params: 0\n",
            "_________________________________________________________________\n",
            "None\n"
          ],
          "name": "stdout"
        }
      ]
    },
    {
      "cell_type": "code",
      "metadata": {
        "id": "JwqEbpc5nZPZ",
        "outputId": "57951844-025b-4034-bb5b-e8bb9b1161cb",
        "colab": {
          "base_uri": "https://localhost:8080/"
        }
      },
      "source": [
        "# Train the model\n",
        "epochs = 10\n",
        "history = model.fit(x=x_train, y=y_train, validation_split=0.1, batch_size=256, verbose=2, epochs=epochs)"
      ],
      "execution_count": 199,
      "outputs": [
        {
          "output_type": "stream",
          "text": [
            "Epoch 1/10\n",
            "540/540 - 92s - loss: 1.2466 - accuracy: 0.6025 - val_loss: 0.8626 - val_accuracy: 0.7298\n",
            "Epoch 2/10\n",
            "540/540 - 91s - loss: 0.8626 - accuracy: 0.7263 - val_loss: 0.7282 - val_accuracy: 0.7646\n",
            "Epoch 3/10\n",
            "540/540 - 91s - loss: 0.7573 - accuracy: 0.7590 - val_loss: 0.6749 - val_accuracy: 0.7803\n",
            "Epoch 4/10\n",
            "540/540 - 92s - loss: 0.6974 - accuracy: 0.7771 - val_loss: 0.6312 - val_accuracy: 0.7979\n",
            "Epoch 5/10\n",
            "540/540 - 91s - loss: 0.6558 - accuracy: 0.7909 - val_loss: 0.6092 - val_accuracy: 0.8040\n",
            "Epoch 6/10\n",
            "540/540 - 91s - loss: 0.6237 - accuracy: 0.7986 - val_loss: 0.5855 - val_accuracy: 0.8104\n",
            "Epoch 7/10\n",
            "540/540 - 91s - loss: 0.5952 - accuracy: 0.8073 - val_loss: 0.5811 - val_accuracy: 0.8110\n",
            "Epoch 8/10\n",
            "540/540 - 91s - loss: 0.5764 - accuracy: 0.8131 - val_loss: 0.5595 - val_accuracy: 0.8199\n",
            "Epoch 9/10\n",
            "540/540 - 90s - loss: 0.5555 - accuracy: 0.8197 - val_loss: 0.5502 - val_accuracy: 0.8223\n",
            "Epoch 10/10\n",
            "540/540 - 90s - loss: 0.5399 - accuracy: 0.8248 - val_loss: 0.5507 - val_accuracy: 0.8199\n"
          ],
          "name": "stdout"
        }
      ]
    },
    {
      "cell_type": "code",
      "metadata": {
        "id": "vhYtTuDFHeND",
        "outputId": "13f9a1fc-df8a-4f53-8ba5-2185c944aba5",
        "colab": {
          "base_uri": "https://localhost:8080/"
        }
      },
      "source": [
        "score = model.evaluate(x_test, y_test, verbose=0)\n",
        "print('Test accuracy: {:0.2f}%'.format(score[1]*100))"
      ],
      "execution_count": 202,
      "outputs": [
        {
          "output_type": "stream",
          "text": [
            "Test accuracy: 82.05%\n"
          ],
          "name": "stdout"
        }
      ]
    },
    {
      "cell_type": "code",
      "metadata": {
        "id": "VT8YUNq7pKXR",
        "outputId": "9fe08778-4e20-4946-9cac-35d46dc7ebbc",
        "colab": {
          "base_uri": "https://localhost:8080/",
          "height": 320
        }
      },
      "source": [
        "pd.DataFrame(history.history).plot(figsize=(8,5))\n",
        "plt.grid(True)"
      ],
      "execution_count": 203,
      "outputs": [
        {
          "output_type": "display_data",
          "data": {
            "image/png": "[encoded data removed]",
            "text/plain": [
              "<Figure size 576x360 with 1 Axes>"
            ]
          },
          "metadata": {
            "tags": [],
            "needs_background": "light"
          }
        }
      ]
    },
    {
      "cell_type": "code",
      "metadata": {
        "id": "FWHEJ0UopiQZ"
      },
      "source": [
        "pred = model.predict(x_test)\n",
        "#results = model.evaluate(x_test, y_test)\n",
        "\n",
        "#print(f\"After 5 epochs, the loss is {results[0]}, and the accuracy is {results[1]}\")"
      ],
      "execution_count": 204,
      "outputs": []
    },
    {
      "cell_type": "markdown",
      "metadata": {
        "id": "Q3zKMlJizODP"
      },
      "source": [
        "Get errors"
      ]
    },
    {
      "cell_type": "code",
      "metadata": {
        "id": "WD1Z3LH4p3fM",
        "outputId": "4e178082-c26a-4d40-ebef-7233380ee48d",
        "colab": {
          "base_uri": "https://localhost:8080/",
          "height": 551
        }
      },
      "source": [
        "y_pred = np.argmax(pred, axis = 1)\n",
        "y = np.argmax(y_test, axis = 1)\n",
        "\n",
        "# Get the indices of the bad labels\n",
        "bad_pred = np.argwhere((y == y_pred) == False).squeeze()\n",
        "\n",
        "#Plot\n",
        "fig, axes = plt.subplots(3, 3, figsize=(9, 9))\n",
        "\n",
        "for i, ax in enumerate(axes.flatten()):\n",
        "    idx = np.random.choice(bad_pred)\n",
        "    x_show = np.squeeze(x_test[idx])\n",
        "    ax.imshow(x_show, cmap=\"gray_r\", interpolation=\"nearest\")\n",
        "    ax.set_title(f\"True label: {class_names[y[idx]]}, \\nPrediction: {class_names[y_pred[idx]]}\")\n",
        "    ax.axis(\"off\")"
      ],
      "execution_count": 208,
      "outputs": [
        {
          "output_type": "display_data",
          "data": {
            "image/png": "[encoded data removed]",
            "text/plain": [
              "<Figure size 648x648 with 9 Axes>"
            ]
          },
          "metadata": {
            "tags": [],
            "needs_background": "light"
          }
        }
      ]
    },
    {
      "cell_type": "markdown",
      "metadata": {
        "id": "Vk1xGBbxzRmI"
      },
      "source": [
        "Print top 3 predictions for a object"
      ]
    },
    {
      "cell_type": "code",
      "metadata": {
        "id": "M8BhbkW6qHId",
        "outputId": "b0e99d03-f94d-4cf4-bc7c-4170108bcc86",
        "colab": {
          "base_uri": "https://localhost:8080/",
          "height": 281
        }
      },
      "source": [
        "id_x = randint(0, len(x_test))\n",
        "img = x_test[id_x]\n",
        "plt.imshow(img.squeeze(), cmap=\"gray_r\")\n",
        "pred1 = model.predict(np.expand_dims(img, axis=0))[0]\n",
        "ind = (-pred1).argsort()[:3]\n",
        "latex = [class_names[x] for x in ind]\n",
        "plt.title(latex)\n",
        "plt.show()"
      ],
      "execution_count": 212,
      "outputs": [
        {
          "output_type": "display_data",
          "data": {
            "image/png": "[encoded data removed]",
            "text/plain": [
              "<Figure size 432x288 with 1 Axes>"
            ]
          },
          "metadata": {
            "tags": [],
            "needs_background": "light"
          }
        }
      ]
    },
    {
      "cell_type": "markdown",
      "metadata": {
        "id": "mygVfrD7zbzM"
      },
      "source": [
        "Store the classes"
      ]
    },
    {
      "cell_type": "code",
      "metadata": {
        "id": "DIDEsHKeqV3w"
      },
      "source": [
        "with open('classes.txt', 'w') as file_handler:\n",
        "    for item in classes:\n",
        "        file_handler.write(\"{}\\n\".format(item))"
      ],
      "execution_count": 222,
      "outputs": []
    },
    {
      "cell_type": "code",
      "metadata": {
        "id": "L-Jj7S0zqxS9",
        "outputId": "87386587-d473-4731-cb3d-a361ce5d0314",
        "colab": {
          "base_uri": "https://localhost:8080/"
        }
      },
      "source": [
        "!pip install tensorflowjs"
      ],
      "execution_count": 214,
      "outputs": [
        {
          "output_type": "stream",
          "text": [
            "Requirement already satisfied: tensorflowjs in /usr/local/lib/python3.6/dist-packages (2.7.0)\n",
            "Requirement already satisfied: six<2,>=1.12.0 in /usr/local/lib/python3.6/dist-packages (from tensorflowjs) (1.15.0)\n",
            "Requirement already satisfied: h5py<3,>=2.8.0 in /usr/local/lib/python3.6/dist-packages (from tensorflowjs) (2.10.0)\n",
            "Requirement already satisfied: tensorflow<3,>=2.1.0 in /usr/local/lib/python3.6/dist-packages (from tensorflowjs) (2.3.0)\n",
            "Requirement already satisfied: tensorflow-hub<0.10,>=0.7.0 in /usr/local/lib/python3.6/dist-packages (from tensorflowjs) (0.9.0)\n",
            "Requirement already satisfied: numpy>=1.7 in /usr/local/lib/python3.6/dist-packages (from h5py<3,>=2.8.0->tensorflowjs) (1.18.5)\n",
            "Requirement already satisfied: protobuf>=3.9.2 in /usr/local/lib/python3.6/dist-packages (from tensorflow<3,>=2.1.0->tensorflowjs) (3.12.4)\n",
            "Requirement already satisfied: tensorflow-estimator<2.4.0,>=2.3.0 in /usr/local/lib/python3.6/dist-packages (from tensorflow<3,>=2.1.0->tensorflowjs) (2.3.0)\n",
            "Requirement already satisfied: keras-preprocessing<1.2,>=1.1.1 in /usr/local/lib/python3.6/dist-packages (from tensorflow<3,>=2.1.0->tensorflowjs) (1.1.2)\n",
            "Requirement already satisfied: wheel>=0.26 in /usr/local/lib/python3.6/dist-packages (from tensorflow<3,>=2.1.0->tensorflowjs) (0.35.1)\n",
            "Requirement already satisfied: scipy==1.4.1 in /usr/local/lib/python3.6/dist-packages (from tensorflow<3,>=2.1.0->tensorflowjs) (1.4.1)\n",
            "Requirement already satisfied: google-pasta>=0.1.8 in /usr/local/lib/python3.6/dist-packages (from tensorflow<3,>=2.1.0->tensorflowjs) (0.2.0)\n",
            "Requirement already satisfied: astunparse==1.6.3 in /usr/local/lib/python3.6/dist-packages (from tensorflow<3,>=2.1.0->tensorflowjs) (1.6.3)\n",
            "Requirement already satisfied: absl-py>=0.7.0 in /usr/local/lib/python3.6/dist-packages (from tensorflow<3,>=2.1.0->tensorflowjs) (0.10.0)\n",
            "Requirement already satisfied: opt-einsum>=2.3.2 in /usr/local/lib/python3.6/dist-packages (from tensorflow<3,>=2.1.0->tensorflowjs) (3.3.0)\n",
            "Requirement already satisfied: grpcio>=1.8.6 in /usr/local/lib/python3.6/dist-packages (from tensorflow<3,>=2.1.0->tensorflowjs) (1.33.1)\n",
            "Requirement already satisfied: tensorboard<3,>=2.3.0 in /usr/local/lib/python3.6/dist-packages (from tensorflow<3,>=2.1.0->tensorflowjs) (2.3.0)\n",
            "Requirement already satisfied: gast==0.3.3 in /usr/local/lib/python3.6/dist-packages (from tensorflow<3,>=2.1.0->tensorflowjs) (0.3.3)\n",
            "Requirement already satisfied: termcolor>=1.1.0 in /usr/local/lib/python3.6/dist-packages (from tensorflow<3,>=2.1.0->tensorflowjs) (1.1.0)\n",
            "Requirement already satisfied: wrapt>=1.11.1 in /usr/local/lib/python3.6/dist-packages (from tensorflow<3,>=2.1.0->tensorflowjs) (1.12.1)\n",
            "Requirement already satisfied: setuptools in /usr/local/lib/python3.6/dist-packages (from protobuf>=3.9.2->tensorflow<3,>=2.1.0->tensorflowjs) (50.3.2)\n",
            "Requirement already satisfied: markdown>=2.6.8 in /usr/local/lib/python3.6/dist-packages (from tensorboard<3,>=2.3.0->tensorflow<3,>=2.1.0->tensorflowjs) (3.3.2)\n",
            "Requirement already satisfied: google-auth-oauthlib<0.5,>=0.4.1 in /usr/local/lib/python3.6/dist-packages (from tensorboard<3,>=2.3.0->tensorflow<3,>=2.1.0->tensorflowjs) (0.4.1)\n",
            "Requirement already satisfied: requests<3,>=2.21.0 in /usr/local/lib/python3.6/dist-packages (from tensorboard<3,>=2.3.0->tensorflow<3,>=2.1.0->tensorflowjs) (2.23.0)\n",
            "Requirement already satisfied: google-auth<2,>=1.6.3 in /usr/local/lib/python3.6/dist-packages (from tensorboard<3,>=2.3.0->tensorflow<3,>=2.1.0->tensorflowjs) (1.17.2)\n",
            "Requirement already satisfied: tensorboard-plugin-wit>=1.6.0 in /usr/local/lib/python3.6/dist-packages (from tensorboard<3,>=2.3.0->tensorflow<3,>=2.1.0->tensorflowjs) (1.7.0)\n",
            "Requirement already satisfied: werkzeug>=0.11.15 in /usr/local/lib/python3.6/dist-packages (from tensorboard<3,>=2.3.0->tensorflow<3,>=2.1.0->tensorflowjs) (1.0.1)\n",
            "Requirement already satisfied: importlib-metadata; python_version < \"3.8\" in /usr/local/lib/python3.6/dist-packages (from markdown>=2.6.8->tensorboard<3,>=2.3.0->tensorflow<3,>=2.1.0->tensorflowjs) (2.0.0)\n",
            "Requirement already satisfied: requests-oauthlib>=0.7.0 in /usr/local/lib/python3.6/dist-packages (from google-auth-oauthlib<0.5,>=0.4.1->tensorboard<3,>=2.3.0->tensorflow<3,>=2.1.0->tensorflowjs) (1.3.0)\n",
            "Requirement already satisfied: chardet<4,>=3.0.2 in /usr/local/lib/python3.6/dist-packages (from requests<3,>=2.21.0->tensorboard<3,>=2.3.0->tensorflow<3,>=2.1.0->tensorflowjs) (3.0.4)\n",
            "Requirement already satisfied: idna<3,>=2.5 in /usr/local/lib/python3.6/dist-packages (from requests<3,>=2.21.0->tensorboard<3,>=2.3.0->tensorflow<3,>=2.1.0->tensorflowjs) (2.10)\n",
            "Requirement already satisfied: certifi>=2017.4.17 in /usr/local/lib/python3.6/dist-packages (from requests<3,>=2.21.0->tensorboard<3,>=2.3.0->tensorflow<3,>=2.1.0->tensorflowjs) (2020.6.20)\n",
            "Requirement already satisfied: urllib3!=1.25.0,!=1.25.1,<1.26,>=1.21.1 in /usr/local/lib/python3.6/dist-packages (from requests<3,>=2.21.0->tensorboard<3,>=2.3.0->tensorflow<3,>=2.1.0->tensorflowjs) (1.24.3)\n",
            "Requirement already satisfied: rsa<5,>=3.1.4; python_version >= \"3\" in /usr/local/lib/python3.6/dist-packages (from google-auth<2,>=1.6.3->tensorboard<3,>=2.3.0->tensorflow<3,>=2.1.0->tensorflowjs) (4.6)\n",
            "Requirement already satisfied: pyasn1-modules>=0.2.1 in /usr/local/lib/python3.6/dist-packages (from google-auth<2,>=1.6.3->tensorboard<3,>=2.3.0->tensorflow<3,>=2.1.0->tensorflowjs) (0.2.8)\n",
            "Requirement already satisfied: cachetools<5.0,>=2.0.0 in /usr/local/lib/python3.6/dist-packages (from google-auth<2,>=1.6.3->tensorboard<3,>=2.3.0->tensorflow<3,>=2.1.0->tensorflowjs) (4.1.1)\n",
            "Requirement already satisfied: zipp>=0.5 in /usr/local/lib/python3.6/dist-packages (from importlib-metadata; python_version < \"3.8\"->markdown>=2.6.8->tensorboard<3,>=2.3.0->tensorflow<3,>=2.1.0->tensorflowjs) (3.3.1)\n",
            "Requirement already satisfied: oauthlib>=3.0.0 in /usr/local/lib/python3.6/dist-packages (from requests-oauthlib>=0.7.0->google-auth-oauthlib<0.5,>=0.4.1->tensorboard<3,>=2.3.0->tensorflow<3,>=2.1.0->tensorflowjs) (3.1.0)\n",
            "Requirement already satisfied: pyasn1>=0.1.3 in /usr/local/lib/python3.6/dist-packages (from rsa<5,>=3.1.4; python_version >= \"3\"->google-auth<2,>=1.6.3->tensorboard<3,>=2.3.0->tensorflow<3,>=2.1.0->tensorflowjs) (0.4.8)\n"
          ],
          "name": "stdout"
        }
      ]
    },
    {
      "cell_type": "markdown",
      "metadata": {
        "id": "Z-s4qm09zln0"
      },
      "source": [
        "Save and convert model"
      ]
    },
    {
      "cell_type": "code",
      "metadata": {
        "id": "--Bq51PDq7bk"
      },
      "source": [
        "model.save('keras.h5')"
      ],
      "execution_count": 223,
      "outputs": []
    },
    {
      "cell_type": "code",
      "metadata": {
        "id": "P1cJoR00q_6Q",
        "outputId": "0af9fcf2-7118-4af6-8541-55e845522cf4",
        "colab": {
          "base_uri": "https://localhost:8080/"
        }
      },
      "source": [
        "!mkdir -p newmodel\n",
        "!tensorflowjs_converter --input_format keras keras.h5 newmodel/"
      ],
      "execution_count": 224,
      "outputs": [
        {
          "output_type": "stream",
          "text": [
            "2020-11-02 00:23:44.319482: I tensorflow/stream_executor/platform/default/dso_loader.cc:48] Successfully opened dynamic library libcudart.so.10.1\n"
          ],
          "name": "stdout"
        }
      ]
    },
    {
      "cell_type": "markdown",
      "metadata": {
        "id": "bwShsDtgzqdy"
      },
      "source": [
        "Download model"
      ]
    },
    {
      "cell_type": "code",
      "metadata": {
        "id": "sfPD4xrDrPaF"
      },
      "source": [
        "!cp classes.txt newmodel/classes.txt"
      ],
      "execution_count": 225,
      "outputs": []
    },
    {
      "cell_type": "code",
      "metadata": {
        "id": "HXUKq3ETrW_Z",
        "outputId": "5aa680cd-f321-4af1-9e2e-bb90029f70a3",
        "colab": {
          "base_uri": "https://localhost:8080/"
        }
      },
      "source": [
        "!zip -r newmodel.zip newmodel"
      ],
      "execution_count": 227,
      "outputs": [
        {
          "output_type": "stream",
          "text": [
            "  adding: newmodel/ (stored 0%)\n",
            "  adding: newmodel/model.json (deflated 82%)\n",
            "  adding: newmodel/classes.txt (deflated 12%)\n",
            "  adding: newmodel/group1-shard1of1.bin (deflated 7%)\n"
          ],
          "name": "stdout"
        }
      ]
    },
    {
      "cell_type": "code",
      "metadata": {
        "id": "m-2QHgwHrkgz",
        "outputId": "d1b9ebda-dccb-43da-b0fb-419bddd0741b",
        "colab": {
          "base_uri": "https://localhost:8080/",
          "height": 17
        }
      },
      "source": [
        "from google.colab import files \n",
        "files.download('newmodel.zip')"
      ],
      "execution_count": 229,
      "outputs": [
        {
          "output_type": "display_data",
          "data": {
            "application/javascript": [
              "\n",
              "    async function download(id, filename, size) {\n",
              "      if (!google.colab.kernel.accessAllowed) {\n",
              "        return;\n",
              "      }\n",
              "      const div = document.createElement('div');\n",
              "      const label = document.createElement('label');\n",
              "      label.textContent = `Downloading \"${filename}\": `;\n",
              "      div.appendChild(label);\n",
              "      const progress = document.createElement('progress');\n",
              "      progress.max = size;\n",
              "      div.appendChild(progress);\n",
              "      document.body.appendChild(div);\n",
              "\n",
              "      const buffers = [];\n",
              "      let downloaded = 0;\n",
              "\n",
              "      const channel = await google.colab.kernel.comms.open(id);\n",
              "      // Send a message to notify the kernel that we're ready.\n",
              "      channel.send({})\n",
              "\n",
              "      for await (const message of channel.messages) {\n",
              "        // Send a message to notify the kernel that we're ready.\n",
              "        channel.send({})\n",
              "        if (message.buffers) {\n",
              "          for (const buffer of message.buffers) {\n",
              "            buffers.push(buffer);\n",
              "            downloaded += buffer.byteLength;\n",
              "            progress.value = downloaded;\n",
              "          }\n",
              "        }\n",
              "      }\n",
              "      const blob = new Blob(buffers, {type: 'application/binary'});\n",
              "      const a = document.createElement('a');\n",
              "      a.href = window.URL.createObjectURL(blob);\n",
              "      a.download = filename;\n",
              "      div.appendChild(a);\n",
              "      a.click();\n",
              "      div.remove();\n",
              "    }\n",
              "  "
            ],
            "text/plain": [
              "<IPython.core.display.Javascript object>"
            ]
          },
          "metadata": {
            "tags": []
          }
        },
        {
          "output_type": "display_data",
          "data": {
            "application/javascript": [
              "download(\"download_ab9d9ff2-66b3-4f3e-a32b-b60d5b0685b9\", \"newmodel.zip\", 368133)"
            ],
            "text/plain": [
              "<IPython.core.display.Javascript object>"
            ]
          },
          "metadata": {
            "tags": []
          }
        }
      ]
    }
  ]
}